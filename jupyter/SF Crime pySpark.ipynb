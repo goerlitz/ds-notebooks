{
 "cells": [
  {
   "cell_type": "code",
   "execution_count": null,
   "metadata": {
    "collapsed": false
   },
   "outputs": [],
   "source": [
    "import csv\n",
    "import pyspark\n",
    "from pyspark.sql import SQLContext\n",
    "from pyspark.sql.types import *\n",
    "from StringIO import StringIO\n",
    "\n",
    "sc = pyspark.SparkContext('local[*]')\n",
    "sqlContext = SQLContext(sc)"
   ]
  },
  {
   "cell_type": "code",
   "execution_count": null,
   "metadata": {
    "collapsed": false
   },
   "outputs": [],
   "source": [
    "# CSV reader from Databricks simplifies loading CSV but is not available\n",
    "#df = sqlContext.read.format('com.databricks.spark.csv').options(header='true', inferschema='true').load('cars.csv')"
   ]
  },
  {
   "cell_type": "code",
   "execution_count": null,
   "metadata": {
    "collapsed": false
   },
   "outputs": [],
   "source": [
    "textRDD = sc.textFile(\"data/sf-crime/train.csv.bz2\")\n",
    "\n",
    "textRDD.count()"
   ]
  },
  {
   "cell_type": "code",
   "execution_count": null,
   "metadata": {
    "collapsed": false
   },
   "outputs": [],
   "source": [
    "# remove header\n",
    "header = textRDD.first()\n",
    "textRDD = textRDD.filter(lambda line: not line == header)"
   ]
  },
  {
   "cell_type": "code",
   "execution_count": null,
   "metadata": {
    "collapsed": false
   },
   "outputs": [],
   "source": [
    "# The schema is encoded in a string.\n",
    "fieldNames = header.split(',')\n",
    "\n",
    "fields = [StructField(field_name, StringType(), True) for field_name in fieldNames]\n",
    "fields[0].dataType = TimestampType()\n",
    "fields[7].dataType = FloatType()\n",
    "fields[8].dataType = FloatType()\n",
    "\n",
    "schema = StructType(fields)"
   ]
  },
  {
   "cell_type": "code",
   "execution_count": null,
   "metadata": {
    "collapsed": false
   },
   "outputs": [],
   "source": [
    "from datetime import *\n",
    "from dateutil.parser import parse\n",
    "\n",
    "# parse each csv line (fields may contain ',') and split into tuples\n",
    "tupleRDD = textRDD \\\n",
    "    .map(lambda line: next(csv.reader(StringIO(line)))) \\\n",
    "    .map(lambda x: (parse(x[0]), x[1], x[2], x[3], x[4], x[5], x[6], float(x[7]), float(x[8])))\n",
    "         \n",
    "crime_df = sqlContext.createDataFrame(tupleRDD, schema)\n",
    "crime_df.groupBy('PdDistrict').count().show()"
   ]
  },
  {
   "cell_type": "code",
   "execution_count": null,
   "metadata": {
    "collapsed": true
   },
   "outputs": [],
   "source": []
  }
 ],
 "metadata": {
  "kernelspec": {
   "display_name": "Python 2",
   "language": "python",
   "name": "python2"
  },
  "language_info": {
   "codemirror_mode": {
    "name": "ipython",
    "version": 2
   },
   "file_extension": ".py",
   "mimetype": "text/x-python",
   "name": "python",
   "nbconvert_exporter": "python",
   "pygments_lexer": "ipython2",
   "version": "2.7.11"
  }
 },
 "nbformat": 4,
 "nbformat_minor": 0
}
