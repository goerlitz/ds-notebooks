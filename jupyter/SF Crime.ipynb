{
 "cells": [
  {
   "cell_type": "code",
   "execution_count": null,
   "metadata": {
    "collapsed": false
   },
   "outputs": [],
   "source": [
    "library(ggplot2)\n",
    "library(lattice)"
   ]
  },
  {
   "cell_type": "code",
   "execution_count": null,
   "metadata": {
    "collapsed": false
   },
   "outputs": [],
   "source": [
    "#file <- gzfile(\"data/sf-crime/train.csv.gz\")\n",
    "file <- bzfile(\"data/sf-crime/train.csv.bz2\")\n",
    "\n",
    "start.time <- Sys.time()\n",
    "train <- read.csv(file, header = TRUE)\n",
    "end.time <- Sys.time()\n",
    "\n",
    "cat(sprintf(\"Loaded %d rows in %.1f seconds.\\n\", nrow(train), end.time - start.time))"
   ]
  },
  {
   "cell_type": "markdown",
   "metadata": {},
   "source": [
    "## Data Preparation"
   ]
  },
  {
   "cell_type": "code",
   "execution_count": null,
   "metadata": {
    "collapsed": false
   },
   "outputs": [],
   "source": [
    "train$Dates  <- as.POSIXlt(train$Dates, \"PST\")\n",
    "train$Year   <- as.numeric(format(train$Dates, \"%Y\"))\n",
    "train$Month  <- as.numeric(format(train$Dates, \"%m\"))\n",
    "train$Day    <- as.numeric(format(train$Dates, \"%d\"))\n",
    "train$Hour   <- as.numeric(format(train$Dates, \"%H\"))\n",
    "train$Minute <- as.numeric(format(train$Dates, \"%M\"))"
   ]
  },
  {
   "cell_type": "markdown",
   "metadata": {},
   "source": [
    "Restrict to year 2010"
   ]
  },
  {
   "cell_type": "code",
   "execution_count": null,
   "metadata": {
    "collapsed": false
   },
   "outputs": [],
   "source": [
    "train <- subset(train, Year == 2010)"
   ]
  },
  {
   "cell_type": "code",
   "execution_count": null,
   "metadata": {
    "collapsed": false
   },
   "outputs": [],
   "source": [
    "qplot(train$Category) + theme(axis.ticks = element_blank(), panel.grid.major.y = element_blank()) + coord_cartesian(ylim = c(0,200000)) + coord_flip()"
   ]
  },
  {
   "cell_type": "code",
   "execution_count": null,
   "metadata": {
    "collapsed": true
   },
   "outputs": [],
   "source": [
    "# remove invalid coordinates\n",
    "train <- subset(train, Y < 40)"
   ]
  },
  {
   "cell_type": "code",
   "execution_count": null,
   "metadata": {
    "collapsed": false
   },
   "outputs": [],
   "source": [
    "summary(train)"
   ]
  },
  {
   "cell_type": "code",
   "execution_count": null,
   "metadata": {
    "collapsed": false
   },
   "outputs": [],
   "source": [
    "plot(table(train$Year))"
   ]
  },
  {
   "cell_type": "code",
   "execution_count": null,
   "metadata": {
    "collapsed": true
   },
   "outputs": [],
   "source": [
    "#xyplot(Y ~ X | PdDistrict, data = train, groups = PdDistrict) # plot each district separately colored by district"
   ]
  },
  {
   "cell_type": "code",
   "execution_count": null,
   "metadata": {
    "collapsed": true
   },
   "outputs": [],
   "source": []
  }
 ],
 "metadata": {
  "kernelspec": {
   "display_name": "R",
   "language": "R",
   "name": "ir"
  },
  "language_info": {
   "codemirror_mode": "r",
   "file_extension": ".r",
   "mimetype": "text/x-r-source",
   "name": "R",
   "pygments_lexer": "r",
   "version": "3.2.2"
  }
 },
 "nbformat": 4,
 "nbformat_minor": 0
}
