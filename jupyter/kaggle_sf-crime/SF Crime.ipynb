{
 "cells": [
  {
   "cell_type": "markdown",
   "metadata": {},
   "source": [
    "# San Francisco Crime Classification\n",
    "\n",
    "[San Francisco crime dataset from Kaggle](https://www.kaggle.com/c/sf-crime)\n",
    "\n",
    "**Data fields:**\n",
    "\n",
    "* Dates - timestamp of the crime incident\n",
    "* Category - category of the crime incident (only in train.csv). This is the target variable you are going to predict.\n",
    "* Descript - detailed description of the crime incident (only in train.csv)\n",
    "* DayOfWeek - the day of the week\n",
    "* PdDistrict - name of the Police Department District\n",
    "* Resolution - how the crime incident was resolved (only in train.csv)\n",
    "* Address - the approximate street address of the crime incident\n",
    "* X - Longitude\n",
    "* Y - Latitude"
   ]
  },
  {
   "cell_type": "code",
   "execution_count": null,
   "metadata": {
    "collapsed": false
   },
   "outputs": [],
   "source": [
    "# import all required libraries\n",
    "library(ggplot2)    # Data visualization\n",
    "library(scales)     # Plot scaling\n",
    "library(lattice)\n",
    "\n",
    "library(data.table) # Much faster data frames\n",
    "library(dplyr)      # Data aggregation etc.\n",
    "library(ggmap)      # Load maps from OSM, etc."
   ]
  },
  {
   "cell_type": "code",
   "execution_count": null,
   "metadata": {
    "collapsed": false
   },
   "outputs": [],
   "source": [
    "train <- fread('../../data/sf-crime/train.csv', header = TRUE)"
   ]
  },
  {
   "cell_type": "code",
   "execution_count": null,
   "metadata": {
    "collapsed": false
   },
   "outputs": [],
   "source": [
    "str(train)"
   ]
  },
  {
   "cell_type": "markdown",
   "metadata": {},
   "source": [
    "# Data Preparation"
   ]
  },
  {
   "cell_type": "code",
   "execution_count": null,
   "metadata": {
    "collapsed": false
   },
   "outputs": [],
   "source": [
    "train$Dates <- as.POSIXct(train$Dates, \"PST\")\n",
    "train$Year  <- as.numeric(format(train$Dates, \"%Y\"))\n",
    "train$Month <- as.numeric(format(train$Dates, \"%m\"))\n",
    "\n",
    "train$Category <- as.factor(train$Category)\n",
    "train$DayOfWeek <- as.factor(train$DayOfWeek)\n",
    "train$PdDistrict <- as.factor(train$PdDistrict)"
   ]
  },
  {
   "cell_type": "markdown",
   "metadata": {},
   "source": [
    "Restrict to year 2010"
   ]
  },
  {
   "cell_type": "code",
   "execution_count": null,
   "metadata": {
    "collapsed": true
   },
   "outputs": [],
   "source": [
    "#train <- subset(train, Year == 2010)"
   ]
  },
  {
   "cell_type": "code",
   "execution_count": null,
   "metadata": {
    "collapsed": false
   },
   "outputs": [],
   "source": [
    "agg.cat <- train %>% group_by(Category) %>% summarize(count = n()) %>% arrange(desc(count))\n",
    "agg.cat$Category <- factor(agg.cat$Category, levels = agg.cat$Category[order(agg.cat$count)]) # order by count\n",
    "ggplot(agg.cat, aes(x=Category, y=count)) + geom_bar(stat = \"identity\") + coord_flip() +\n",
    "    theme(axis.ticks = element_blank(), panel.grid.major.y = element_blank()) "
   ]
  },
  {
   "cell_type": "code",
   "execution_count": null,
   "metadata": {
    "collapsed": true
   },
   "outputs": [],
   "source": [
    "# remove invalid coordinates\n",
    "train <- subset(train, Y < 40)"
   ]
  },
  {
   "cell_type": "code",
   "execution_count": null,
   "metadata": {
    "collapsed": false
   },
   "outputs": [],
   "source": [
    "summary(train)"
   ]
  },
  {
   "cell_type": "code",
   "execution_count": null,
   "metadata": {
    "collapsed": true
   },
   "outputs": [],
   "source": [
    "# compute montly count per Category\n",
    "train.agg <- train %>% group_by(Year, Month, Category) %>% summarize(count=n())\n",
    "train.agg$Date <- as.POSIXct(paste(train.agg$Year, train.agg$Month, \"01\", sep = \"-\")) # set date to first of month\n",
    "\n",
    "# set monthly count to 0 for missing values\n",
    "alldates <- data.frame(Date=with(train.agg, seq(min(Date), max(Date), by=\"month\")))\n",
    "allcatdates <- merge(alldates, data.frame(Category=levels(train$Category)))\n",
    "train.agg <- merge(train.agg, allcatdates, by=c(\"Date\", \"Category\"), all = TRUE)\n",
    "train.agg[is.na(train.agg$count)]$count <- 0"
   ]
  },
  {
   "cell_type": "code",
   "execution_count": null,
   "metadata": {
    "collapsed": false
   },
   "outputs": [],
   "source": [
    "# plot montly count per Category\n",
    "breaks <- seq(as.POSIXct(\"2003-01-01\"), as.POSIXct(\"2015-01-01\"), by=\"2 years\")\n",
    "ggplot(train.agg, aes(x = Date, y = count, group = Category, col = Category)) +\n",
    "  geom_line(size=0.2) +\n",
    "  facet_wrap(~Category, ncol = 5, scales = \"free_y\") +\n",
    "  theme(legend.position = \"none\",\n",
    "        axis.text = element_text(size = 4),\n",
    "        strip.text = element_text(size = 5)) +\n",
    "  scale_y_continuous(limits = c(0, NA)) +\n",
    "  scale_x_datetime(breaks = breaks, labels = format(breaks, \"%Y\")) +\n",
    "  labs(title=\"Monthly Frequency of Crime Events per Category\")"
   ]
  },
  {
   "cell_type": "code",
   "execution_count": null,
   "metadata": {
    "collapsed": false
   },
   "outputs": [],
   "source": [
    "train <- subset(train, Y < 40)\n",
    "\n",
    "train <- subset(train, Year == 2010)\n",
    "\n",
    "sfMap <- get_map(\"San Francisco\", zoom = 12, source=\"osm\", color = \"bw\")"
   ]
  },
  {
   "cell_type": "code",
   "execution_count": null,
   "metadata": {
    "collapsed": false
   },
   "outputs": [],
   "source": [
    "ggmap(sfMap) +\n",
    "  geom_point(data = train, aes(x = X, y = Y, col = PdDistrict), size = 0.1, alpha = 0.3) +\n",
    "#  facet_wrap(~PdDistrict, ncol = 4) +\n",
    "  theme(legend.position = \"none\", axis.text = element_text(size = 5))"
   ]
  },
  {
   "cell_type": "code",
   "execution_count": null,
   "metadata": {
    "collapsed": true
   },
   "outputs": [],
   "source": []
  }
 ],
 "metadata": {
  "kernelspec": {
   "display_name": "R",
   "language": "R",
   "name": "ir"
  },
  "language_info": {
   "codemirror_mode": "r",
   "file_extension": ".r",
   "mimetype": "text/x-r-source",
   "name": "R",
   "pygments_lexer": "r",
   "version": "3.2.2"
  },
  "widgets": {
   "state": {},
   "version": "1.1.1"
  }
 },
 "nbformat": 4,
 "nbformat_minor": 0
}
