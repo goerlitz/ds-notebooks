{
 "cells": [
  {
   "cell_type": "markdown",
   "metadata": {},
   "source": [
    "# [Expedia logs of customer behavior](https://www.kaggle.com/c/expedia-hotel-recommendations)\n",
    "\n",
    "> These include what customers searched for, how they interacted with search results (click/book), whether or not the search result was a travel package.\n",
    "> Expedia is interested in predicting which hotel group a user is going to book. Expedia has in-house algorithms to form hotel clusters, where similar hotels for a search (based on historical price, customer star ratings, geographical locations relative to city center, etc) are grouped together.\n",
    "\n",
    "\n",
    "### Training/Test Data\n",
    "\n",
    "Column name               | Description                                                                      | Data type\n",
    "------------------------- | -------------------------------------------------------------------------------- | ---------\n",
    "date_time                 | Timestamp                                                                        | string\n",
    "site_name                 | ID of the Expedia point of sale (i.e. Expedia.com, Expedia.co.uk, Expedia.co.jp, ...) | int\n",
    "posa_continent            | ID of continent associated with site_name                                        | int\n",
    "user_location_country     | The ID of the country the customer is located                                    | int\n",
    "user_location_region      | The ID of the region the customer is located                                     | int\n",
    "user_location_city        | The ID of the city the customer is located                                       | int\n",
    "orig_destination_distance | Physical distance between a hotel and a customer at the time of search. <br> A null means the distance could not be calculated                                     | double\n",
    "user_id                   | ID of user                                                                       | int\n",
    "is_mobile                 | 1 when a user connected from a mobile device, 0 otherwise                        | tinyint\n",
    "is_package                | 1 if the click/booking was generated as a part of a package (i.e. combined with a flight), 0 otherwise                                             | int\n",
    "channel                   | ID of a marketing channel                                                        | int\n",
    "srch_ci                   | Checkin date                                                                     | string\n",
    "srch_co                   | Checkout date                                                                    | string\n",
    "srch_adults_cnt           | The number of adults specified in the hotel room                                 | int\n",
    "srch_children_cnt         | The number of (extra occupancy) children specified in the hotel room             | int\n",
    "srch_rm_cnt               | The number of hotel rooms specified in the search                                | int\n",
    "srch_destination_id       | ID of the destination where the hotel search was performed                       | int\n",
    "srch_destination_type_id  | Type of destination                                                              | int\n",
    "hotel_continent           | Hotel continent                                                                  | int\n",
    "hotel_country             | Hotel country                                                                    | int\n",
    "hotel_market              | Hotel market                                                                     | int\n",
    "is_booking                | 1 if a booking, 0 if a click                                                     | tinyint\n",
    "cnt                       | Numer of similar events in the context of the same user session                  | bigint\n",
    "hotel_cluster             | ID of a hotel cluster                                                            | int\n",
    "\n",
    "### Destinations\n",
    "\n",
    "Column name         | Description                                                | Data type\n",
    "------------------- | ---------------------------------------------------------- | ---------\n",
    "srch_destination_id | ID of the destination where the hotel search was performed | int\n",
    "d1-d149             | latent description of search regions                       | double\n"
   ]
  },
  {
   "cell_type": "markdown",
   "metadata": {},
   "source": [
    "# Data Exploration"
   ]
  },
  {
   "cell_type": "code",
   "execution_count": null,
   "metadata": {
    "collapsed": false
   },
   "outputs": [],
   "source": [
    "Sys.setenv(LANG = \"en_US.UTF-8\")\n",
    "Sys.setlocale(\"LC_TIME\", \"en_US.UTF-8\")\n",
    "\n",
    "library(ggplot2)    # Data visualization\n",
    "library(data.table) # Faster data reading\n",
    "library(dplyr)      # Data aggregation etc.\n",
    "library(scales)     # Plot scaling\n",
    "#library(Rmisc)      # multiplot\n",
    "#library(gridExtra)  # Arrange plots\n",
    "#library(corrplot)   # Correlations"
   ]
  },
  {
   "cell_type": "code",
   "execution_count": null,
   "metadata": {
    "collapsed": false
   },
   "outputs": [],
   "source": [
    "train <- fread(\"zcat data/expedia/train1M.csv.gz | head -500000\", sep = \",\", header = TRUE)"
   ]
  },
  {
   "cell_type": "code",
   "execution_count": null,
   "metadata": {
    "collapsed": false
   },
   "outputs": [],
   "source": [
    "# convert to factors\n",
    "cols <- colnames(train)\n",
    "for (i in cols[!cols %in% c(\"date_time\", \"orig_destination_distance\")]) {\n",
    "  train[[i]] <- as.factor(train[[i]])\n",
    "}\n",
    "\n",
    "# convert dates\n",
    "train$date_time <- as.POSIXct(train$date_time)\n",
    "train$date <- as.Date(train$date_time)\n",
    "train$srch_ci <- as.Date(train$srch_ci)\n",
    "train$srch_co <- as.Date(train$srch_co)"
   ]
  },
  {
   "cell_type": "code",
   "execution_count": null,
   "metadata": {
    "collapsed": false
   },
   "outputs": [],
   "source": [
    "str(train)"
   ]
  },
  {
   "cell_type": "markdown",
   "metadata": {},
   "source": [
    "## Booking Analysis"
   ]
  },
  {
   "cell_type": "code",
   "execution_count": null,
   "metadata": {
    "collapsed": false
   },
   "outputs": [],
   "source": [
    "train.agg <- train %>% group_by(date, is_booking) %>% summarize(count=n())\n",
    "ggplot(train.agg, aes(x=date, y=count, color=is_booking)) + geom_line(size=0.2) + theme(legend.position=\"top\")"
   ]
  },
  {
   "cell_type": "markdown",
   "metadata": {},
   "source": [
    "### Booking in advance"
   ]
  },
  {
   "cell_type": "code",
   "execution_count": null,
   "metadata": {
    "collapsed": false
   },
   "outputs": [],
   "source": [
    "ggplot(train[train$is_booking == 1], aes(x=date, y=srch_ci)) + geom_point(color=\"blue\", alpha=0.1, size=0.4)"
   ]
  },
  {
   "cell_type": "markdown",
   "metadata": {},
   "source": [
    "### Influence of Weekdays"
   ]
  },
  {
   "cell_type": "code",
   "execution_count": null,
   "metadata": {
    "collapsed": false
   },
   "outputs": [],
   "source": [
    "#train$week <- cut(train$date, \"weeks\")\n",
    "train$Year  <- as.numeric(format(train$date_time, \"%Y\"))\n",
    "train$Month <- as.numeric(format(train$date_time, \"%m\"))\n",
    "train$Hour <- as.numeric(format(train$date_time, \"%H\"))\n",
    "\n",
    "# add weekdays (with ordered levels)\n",
    "wd <- c(\"Mon\", \"Tue\", \"Wed\", \"Thu\", \"Fri\", \"Sat\", \"Sun\")\n",
    "train$weekday <- factor(weekdays(train$date, TRUE), levels = wd)\n",
    "train$weekday_ci <- factor(weekdays(train$srch_ci, TRUE), levels = wd)\n",
    "train$weekday_co <- factor(weekdays(train$srch_co, TRUE), levels = wd)\n",
    "\n",
    "# more feature engineering\n",
    "train$durStay <- as.numeric(train$srch_co - train$srch_ci)\n",
    "train$durStay[train$srch_ci > train$srch_co] <- -1\n",
    "\n",
    "train$timeToDep <- as.numeric(train$srch_ci - train$date)\n",
    "train$timeToDep[train$timeToDep < 0] <- -1\n",
    "train$timeToDep[train$timeToDep > 1000] <- -1"
   ]
  },
  {
   "cell_type": "code",
   "execution_count": null,
   "metadata": {
    "collapsed": false
   },
   "outputs": [],
   "source": [
    "srch_wd <- ggplot(train[train$is_booking == 0], aes(x=weekday, fill=weekday)) + geom_bar() + theme(legend.position=\"none\")\n",
    "book_wd <- ggplot(train[train$is_booking == 1], aes(x=weekday, fill=weekday)) + geom_bar() + theme(legend.position=\"none\")\n",
    "srch_wd\n",
    "book_wd\n",
    "#multiplot(srch_wd, book_wd, cols=1)\n",
    "#grid.arrange(srch_wd, book_wd, nrow=2, ncol=1)"
   ]
  }
 ],
 "metadata": {
  "kernelspec": {
   "display_name": "R",
   "language": "R",
   "name": "ir"
  },
  "language_info": {
   "codemirror_mode": "r",
   "file_extension": ".r",
   "mimetype": "text/x-r-source",
   "name": "R",
   "pygments_lexer": "r",
   "version": "3.2.2"
  }
 },
 "nbformat": 4,
 "nbformat_minor": 0
}
