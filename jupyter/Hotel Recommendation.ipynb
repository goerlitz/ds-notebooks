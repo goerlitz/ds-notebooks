{
 "cells": [
  {
   "cell_type": "markdown",
   "metadata": {},
   "source": [
    "# [Expedia logs of customer behavior](https://www.kaggle.com/c/expedia-hotel-recommendations)\n",
    "\n",
    "> These include what customers searched for, how they interacted with search results (click/book), whether or not the search result was a travel package.\n",
    "> Expedia is interested in predicting which hotel group a user is going to book. Expedia has in-house algorithms to form hotel clusters, where similar hotels for a search (based on historical price, customer star ratings, geographical locations relative to city center, etc) are grouped together.\n",
    "\n",
    "\n",
    "### Training/Test Data\n",
    "\n",
    "Column name               | Description                                                                      | Data type\n",
    "------------------------- | -------------------------------------------------------------------------------- | ---------\n",
    "date_time                 | Timestamp                                                                        | string\n",
    "site_name                 | ID of the Expedia point of sale<br> (i.e. Expedia.com, Expedia.co.uk, Expedia.co.jp, ...) | int\n",
    "posa_continent            | ID of continent associated with site_name                                        | int\n",
    "user_location_country     | The ID of the country the customer is located                                    | int\n",
    "user_location_region      | The ID of the region the customer is located                                     | int\n",
    "user_location_city        | The ID of the city the customer is located                                       | int\n",
    "orig_destination_distance | Physical distance between a hotel and a customer at the time of search. <br> A null means the distance could not be calculated                                     | double\n",
    "user_id                   | ID of user                                                                       | int\n",
    "is_mobile                 | 1 when a user connected from a mobile device, 0 otherwise                        | tinyint\n",
    "is_package                | 1 if the click/booking was generated as a part of a package<br> (i.e. combined with a flight), 0 otherwise                                             | int\n",
    "channel                   | ID of a marketing channel                                                        | int\n",
    "srch_ci                   | Checkin date                                                                     | string\n",
    "srch_co                   | Checkout date                                                                    | string\n",
    "srch_adults_cnt           | The number of adults specified in the hotel room                                 | int\n",
    "srch_children_cnt         | The number of (extra occupancy) children specified in the hotel room             | int\n",
    "srch_rm_cnt               | The number of hotel rooms specified in the search                                | int\n",
    "srch_destination_id       | ID of the destination where the hotel search was performed                       | int\n",
    "srch_destination_type_id  | Type of destination                                                              | int\n",
    "hotel_continent           | Hotel continent                                                                  | int\n",
    "hotel_country             | Hotel country                                                                    | int\n",
    "hotel_market              | Hotel market                                                                     | int\n",
    "is_booking                | 1 if a booking, 0 if a click                                                     | tinyint\n",
    "cnt                       | Numer of similar events in the context of the same user session                  | bigint\n",
    "hotel_cluster             | ID of a hotel cluster                                                            | int\n",
    "\n",
    "### Destinations\n",
    "\n",
    "Column name         | Description                                                | Data type\n",
    "------------------- | ---------------------------------------------------------- | ---------\n",
    "srch_destination_id | ID of the destination where the hotel search was performed | int\n",
    "d1-d149             | latent description of search regions                       | double\n"
   ]
  },
  {
   "cell_type": "markdown",
   "metadata": {},
   "source": [
    "# Data Exploration"
   ]
  },
  {
   "cell_type": "code",
   "execution_count": null,
   "metadata": {
    "collapsed": false
   },
   "outputs": [],
   "source": [
    "Sys.setlocale(\"LC_TIME\", \"en_US.UTF-8\")\n",
    "Sys.setenv(LANG = \"en_US.UTF-8\")\n",
    "\n",
    "library(ggplot2)    # Data visualization\n",
    "library(data.table) # Faster data reading\n",
    "library(dplyr)      # Data aggregation etc.\n",
    "library(scales)     # Plot scaling\n",
    "library(gridExtra)  # Arrange plots\n",
    "library(corrplot)   # Correlations"
   ]
  },
  {
   "cell_type": "code",
   "execution_count": null,
   "metadata": {
    "collapsed": false
   },
   "outputs": [],
   "source": [
    "train <- fread(\"bzcat data/expedia/train500k.csv.bz2\", sep = \",\", header = TRUE)"
   ]
  },
  {
   "cell_type": "code",
   "execution_count": null,
   "metadata": {
    "collapsed": false
   },
   "outputs": [],
   "source": [
    "# convert to factors\n",
    "cols <- colnames(train)\n",
    "for (i in cols[!cols %in% c(\"date_time\", \"orig_destination_distance\")]) {\n",
    "  train[[i]] <- as.factor(train[[i]])\n",
    "}\n",
    "\n",
    "# convert dates\n",
    "train$date_time <- as.POSIXct(train$date_time)\n",
    "train$date <- as.Date(train$date_time)\n",
    "train$srch_ci <- as.Date(train$srch_ci)\n",
    "train$srch_co <- as.Date(train$srch_co)"
   ]
  },
  {
   "cell_type": "code",
   "execution_count": null,
   "metadata": {
    "collapsed": false
   },
   "outputs": [],
   "source": [
    "str(train)"
   ]
  },
  {
   "cell_type": "markdown",
   "metadata": {},
   "source": [
    "## Booking Analysis"
   ]
  },
  {
   "cell_type": "code",
   "execution_count": null,
   "metadata": {
    "collapsed": false
   },
   "outputs": [],
   "source": [
    "train.agg <- train %>% group_by(date, is_booking) %>% summarize(count=n())\n",
    "ggplot(train.agg, aes(x=date, y=count, color=is_booking)) +\n",
    "    geom_line(size=0.2) + theme(legend.position=\"top\")"
   ]
  },
  {
   "cell_type": "markdown",
   "metadata": {},
   "source": [
    "### Booking in advance"
   ]
  },
  {
   "cell_type": "code",
   "execution_count": null,
   "metadata": {
    "collapsed": false
   },
   "outputs": [],
   "source": [
    "bookings <- train[train$is_booking == 1]\n",
    "ggplot(bookings[sample(nrow(bookings), 10000)], aes(x=date, y=srch_ci)) +\n",
    "    geom_point(color=\"blue\", alpha=0.1, size=0.4)"
   ]
  },
  {
   "cell_type": "markdown",
   "metadata": {},
   "source": [
    "# Feature Engineering\n",
    "\n",
    "* Trip duration\n",
    "* Booking ahead\n",
    "* Weekdays\n",
    "* Weekend stay\n",
    "\n",
    "## Trip Duration"
   ]
  },
  {
   "cell_type": "code",
   "execution_count": null,
   "metadata": {
    "collapsed": false
   },
   "outputs": [],
   "source": [
    "train$tripDur <- as.numeric(train$srch_co - train$srch_ci)\n",
    "train$tripDur[train$tripDur < 0] <- NA\n",
    "\n",
    "srch_tripDur <- ggplot(train[train$is_booking == 0], aes(x=tripDur)) +\n",
    "                    geom_bar() + ggtitle(\"Searches\") + theme(legend.position=\"none\")\n",
    "book_tripDur <- ggplot(train[train$is_booking == 1], aes(x=tripDur)) +\n",
    "                    geom_bar() + ggtitle(\"Bookings\") + theme(legend.position=\"none\")\n",
    "grid.arrange(srch_tripDur, book_tripDur, nrow=2, ncol=1)"
   ]
  },
  {
   "cell_type": "markdown",
   "metadata": {},
   "source": [
    "## Booking Ahead"
   ]
  },
  {
   "cell_type": "code",
   "execution_count": null,
   "metadata": {
    "collapsed": false
   },
   "outputs": [],
   "source": [
    "train$bookAhead <- as.numeric(train$srch_ci - train$date)\n",
    "train$bookAhead[train$bookAhead < 0] <- NA\n",
    "\n",
    "srch_bookAhead <- ggplot(train[train$is_booking == 0], aes(x=bookAhead)) +\n",
    "                      geom_bar() + ggtitle(\"Searches\") + theme(legend.position=\"none\") + xlim(c(0,200))\n",
    "book_bookAhead <- ggplot(train[train$is_booking == 1], aes(x=bookAhead)) +\n",
    "                      geom_bar() + ggtitle(\"Bookings\") + theme(legend.position=\"none\") + xlim(c(0,200))\n",
    "grid.arrange(srch_bookAhead, book_bookAhead, nrow=2, ncol=1)"
   ]
  },
  {
   "cell_type": "markdown",
   "metadata": {},
   "source": [
    "## Weekdays"
   ]
  },
  {
   "cell_type": "code",
   "execution_count": null,
   "metadata": {
    "collapsed": true
   },
   "outputs": [],
   "source": [
    "#train$week <- cut(train$date, \"weeks\")\n",
    "train$Year  <- as.numeric(format(train$date_time, \"%Y\"))\n",
    "train$Month <- as.numeric(format(train$date_time, \"%m\"))\n",
    "train$Hour  <- as.numeric(format(train$date_time, \"%H\"))\n",
    "\n",
    "# add weekdays (with ordered levels)\n",
    "wd <- c(\"Mon\", \"Tue\", \"Wed\", \"Thu\", \"Fri\", \"Sat\", \"Sun\")\n",
    "train$weekday <- factor(weekdays(train$date, TRUE), levels = wd)\n",
    "train$weekday_ci <- factor(weekdays(train$srch_ci, TRUE), levels = wd)\n",
    "train$weekday_co <- factor(weekdays(train$srch_co, TRUE), levels = wd)"
   ]
  },
  {
   "cell_type": "code",
   "execution_count": null,
   "metadata": {
    "collapsed": false
   },
   "outputs": [],
   "source": [
    "srch_wd <- ggplot(train[train$is_booking == 0], aes(x=weekday, fill=weekday)) +\n",
    "               geom_bar() + ggtitle(\"Searches\") + theme(legend.position=\"none\") + ylim(0,100000)\n",
    "book_wd <- ggplot(train[train$is_booking == 1], aes(x=weekday, fill=weekday)) +\n",
    "               geom_bar() + ggtitle(\"Bookings\") + theme(legend.position=\"none\") + ylim(0,8200)\n",
    "\n",
    "srch_wd_ci <- ggplot(train[train$is_booking == 0], aes(x=weekday_ci, fill=weekday_ci)) +\n",
    "               geom_bar() + ggtitle(\"Searches\") + theme(legend.position=\"none\") + ylim(0,100000)\n",
    "book_wd_ci <- ggplot(train[train$is_booking == 1], aes(x=weekday_ci, fill=weekday_ci)) +\n",
    "               geom_bar() + ggtitle(\"Bookings\") + theme(legend.position=\"none\") + ylim(0,8200)\n",
    "\n",
    "srch_wd_co <- ggplot(train[train$is_booking == 0], aes(x=weekday_co, fill=weekday_co)) +\n",
    "               geom_bar() + ggtitle(\"Searches\") + theme(legend.position=\"none\") + ylim(0,100000)\n",
    "book_wd_co <- ggplot(train[train$is_booking == 1], aes(x=weekday_co, fill=weekday_co)) +\n",
    "               geom_bar() + ggtitle(\"Bookings\") + theme(legend.position=\"none\") + ylim(0,8200)\n",
    "\n",
    "grid.arrange(srch_wd, srch_wd_ci, srch_wd_co, book_wd, book_wd_ci, book_wd_co, nrow=2, ncol=3)"
   ]
  },
  {
   "cell_type": "markdown",
   "metadata": {},
   "source": [
    "## Weekends"
   ]
  },
  {
   "cell_type": "code",
   "execution_count": null,
   "metadata": {
    "collapsed": false
   },
   "outputs": [],
   "source": [
    "train$withWeekend[train$is_booking == 1] <- \n",
    "    mapply(function(x,y) y-x > 6 | Reduce(`|`, weekdays(seq(x, y, by=\"day\"), TRUE) %in% list('Sun', 'Sat')), \n",
    "    train[train$is_booking == 1]$srch_ci, train[train$is_booking == 1]$srch_co)\n",
    "summary(train$withWeekend)"
   ]
  },
  {
   "cell_type": "code",
   "execution_count": null,
   "metadata": {
    "collapsed": false
   },
   "outputs": [],
   "source": [
    "ggplot(train[train$is_booking == 1], aes(x=bookAhead, y=tripDur, color=withWeekend)) +\n",
    "  geom_point(size=0.2, alpha=0.2, position=\"jitter\") + ggtitle(\"Bookings\")"
   ]
  },
  {
   "cell_type": "code",
   "execution_count": null,
   "metadata": {
    "collapsed": true
   },
   "outputs": [],
   "source": []
  }
 ],
 "metadata": {
  "kernelspec": {
   "display_name": "R",
   "language": "R",
   "name": "ir"
  },
  "language_info": {
   "codemirror_mode": "r",
   "file_extension": ".r",
   "mimetype": "text/x-r-source",
   "name": "R",
   "pygments_lexer": "r",
   "version": "3.2.2"
  },
  "widgets": {
   "state": {},
   "version": "1.1.1"
  }
 },
 "nbformat": 4,
 "nbformat_minor": 0
}
